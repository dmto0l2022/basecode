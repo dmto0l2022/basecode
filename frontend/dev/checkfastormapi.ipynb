{
 "cells": [
  {
   "cell_type": "code",
   "execution_count": 2,
   "id": "d8dbb158",
   "metadata": {},
   "outputs": [],
   "source": [
    "import requests"
   ]
  },
  {
   "cell_type": "code",
   "execution_count": null,
   "id": "e45b352b",
   "metadata": {},
   "outputs": [],
   "source": []
  },
  {
   "cell_type": "code",
   "execution_count": 3,
   "id": "1c1c6aec",
   "metadata": {},
   "outputs": [],
   "source": [
    " url = 'http://35.214.16.124:8008/apiorm/limit' "
   ]
  },
  {
   "cell_type": "code",
   "execution_count": 4,
   "id": "3556c12b",
   "metadata": {},
   "outputs": [],
   "source": [
    "post_data = {\n",
    "  \"spin_dependency\": \"string\",\n",
    "  \"result_type\": \"string\",\n",
    "  \"measurement_type\": \"string\",\n",
    "  \"nomhash\": \"string\",\n",
    "  \"x_units\": \"string\",\n",
    "  \"y_units\": \"string\",\n",
    "  \"x_rescale\": \"string\",\n",
    "  \"y_rescale\": \"string\",\n",
    "  \"default_color\": \"string\",\n",
    "  \"default_style\": \"string\",\n",
    "  \"data_values\": \"string\",\n",
    "  \"data_label\": \"string\",\n",
    "  \"file_name\": \"string\",\n",
    "  \"data_comment\": \"string\",\n",
    "  \"data_reference\": \"string\",\n",
    "  \"creator_id\": 2147483647,\n",
    "  \"experiment\": \"string\",\n",
    "  \"rating\": 2147483647,\n",
    "  \"date_of_announcement\": \"2023-06-15\",\n",
    "  \"public\": 2147483647,\n",
    "  \"official\": 2147483647,\n",
    "  \"date_official\": \"2023-06-15\",\n",
    "  \"greatest_hit\": 2147483647,\n",
    "  \"date_of_run_start\": \"2023-06-15\",\n",
    "  \"date_of_run_end\": \"2023-06-15\",\n",
    "  \"year\": 2147483647\n",
    "}"
   ]
  },
  {
   "cell_type": "code",
   "execution_count": 5,
   "id": "4dac077a",
   "metadata": {},
   "outputs": [],
   "source": [
    "x = requests.post(url, json = post_data)"
   ]
  },
  {
   "cell_type": "code",
   "execution_count": 6,
   "id": "0fd4601a",
   "metadata": {},
   "outputs": [
    {
     "name": "stdout",
     "output_type": "stream",
     "text": [
      "{\"id\":3,\"spin_dependency\":\"string\",\"result_type\":\"string\",\"measurement_type\":\"string\",\"nomhash\":\"string\",\"x_units\":\"string\",\"y_units\":\"string\",\"x_rescale\":\"string\",\"y_rescale\":\"string\",\"default_color\":\"string\",\"default_style\":\"string\",\"data_values\":\"string\",\"data_label\":\"string\",\"file_name\":\"string\",\"data_comment\":\"string\",\"data_reference\":\"string\",\"created_at\":\"2023-06-15T08:38:16.351489+00:00\",\"updated_at\":\"2023-06-15T08:38:16.351504+00:00\",\"creator_id\":2147483647,\"experiment\":\"string\",\"rating\":2147483647,\"date_of_announcement\":\"2023-06-15\",\"public\":2147483647,\"official\":2147483647,\"date_official\":\"2023-06-15\",\"greatest_hit\":2147483647,\"date_of_run_start\":\"2023-06-15\",\"date_of_run_end\":\"2023-06-15\",\"year\":2147483647}\n"
     ]
    }
   ],
   "source": [
    "print(x.text)"
   ]
  },
  {
   "cell_type": "code",
   "execution_count": null,
   "id": "3143f87e",
   "metadata": {},
   "outputs": [],
   "source": []
  }
 ],
 "metadata": {
  "kernelspec": {
   "display_name": "Python 3",
   "language": "python",
   "name": "python3"
  },
  "language_info": {
   "codemirror_mode": {
    "name": "ipython",
    "version": 3
   },
   "file_extension": ".py",
   "mimetype": "text/x-python",
   "name": "python",
   "nbconvert_exporter": "python",
   "pygments_lexer": "ipython3",
   "version": "3.8.10"
  }
 },
 "nbformat": 4,
 "nbformat_minor": 5
}
